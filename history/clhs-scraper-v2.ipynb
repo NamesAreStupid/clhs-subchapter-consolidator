{
 "cells": [
  {
   "cell_type": "code",
   "execution_count": 77,
   "metadata": {},
   "outputs": [],
   "source": [
    "from bs4 import BeautifulSoup\n",
    "import requests\n",
    "import itertools as it\n",
    "from tidylib import tidy_document\n",
    "import tidylib\n",
    "import re\n",
    "\n",
    "tidylib.BASE_OPTIONS = {\n",
    "    \"indent\": 1,           # Pretty; not too much of a performance hit\n",
    "    \"tidy-mark\": 0,        # No tidy meta tag in output\n",
    "#     \"wrap\": 0,             # No wrapping\n",
    "    \"alt-text\": \"\",        # Help ensure validation\n",
    "    \"doctype\": 'strict',   # Little sense in transitional for tool-generated markup...\n",
    "    \"force-output\": 1,     # May not get what you expect but you will get something\n",
    "    'drop_empty_paras': False\n",
    "    }\n",
    "\n",
    "url = \"http://www.lispworks.com/documentation/HyperSpec/Body/06_a.htm\"\n",
    "html_doc = requests.get(url).text\n",
    "\n",
    "html_doc2 = html_doc.replace(\"<P>\", \"<p></p>\")\n",
    "html_doc2\n",
    "soup = BeautifulSoup(html_doc2, 'html.parser')"
   ]
  },
  {
   "cell_type": "code",
   "execution_count": 55,
   "metadata": {},
   "outputs": [],
   "source": [
    "url = \"http://www.lispworks.com/documentation/HyperSpec/Body/06_a.htm\"\n",
    "base_url = \"http://www.lispworks.com/documentation/HyperSpec/Body/\"\n",
    "\n",
    "def parse_clhs(url):\n",
    "    html_doc = requests.get(url).text\n",
    "    # Can't be used because some documents have regular, clsoed <p> tags\n",
    "#     html_doc = html_doc.replace(\"<P>\", \"<p></p>\") \n",
    "    # This is for closing unclosed <p> tags, that mess up beautiful soup\n",
    "    tidy_doc = tidy_document(html_doc, options={'drop_empty_paras': False, 'force_output': True})[0]\n",
    "    soup = BeautifulSoup(tidy_doc, 'html.parser')\n",
    "    return soup\n",
    "\n",
    "def remove_non_content(soup):\n",
    "    head = [tag for tag in soup.body.hr.find_previous_siblings()]\n",
    "    for tag in head:\n",
    "        tag.decompose()\n",
    "    tail = [tag for tag in soup.body.hr.find_next_siblings()]\n",
    "    for tag in tail:\n",
    "        tag.decompose()\n",
    "    return soup\n",
    "\n",
    "def get_content(soup):\n",
    "    without_head = [tag for tag in soup.body.hr.find_next_siblings()]\n",
    "    content = list(it.takewhile(lambda x: str(x) != '<hr/>', without_head))\n",
    "#     content = without_head\n",
    "    return content\n",
    "\n",
    "def get_base_url(url):\n",
    "    return re.findall(\".*\\/\", url)[0]\n",
    "\n",
    "def extract_link(a_tag, base_url):\n",
    "    return base_url + a_tag.a['href']\n",
    "\n",
    "def extract_full_link(a_tag):\n",
    "    return extract_link(a_tag, base_url)"
   ]
  },
  {
   "cell_type": "code",
   "execution_count": 6,
   "metadata": {},
   "outputs": [
    {
     "data": {
      "text/plain": [
       "['http://www.lispworks.com/documentation/HyperSpec/Body/06_aa.htm',\n",
       " 'http://www.lispworks.com/documentation/HyperSpec/Body/06_ab.htm',\n",
       " 'http://www.lispworks.com/documentation/HyperSpec/Body/06_ac.htm',\n",
       " 'http://www.lispworks.com/documentation/HyperSpec/Body/06_ad.htm',\n",
       " 'http://www.lispworks.com/documentation/HyperSpec/Body/06_ae.htm',\n",
       " 'http://www.lispworks.com/documentation/HyperSpec/Body/06_af.htm',\n",
       " 'http://www.lispworks.com/documentation/HyperSpec/Body/06_ag.htm',\n",
       " 'http://www.lispworks.com/documentation/HyperSpec/Body/06_ah.htm',\n",
       " 'http://www.lispworks.com/documentation/HyperSpec/Body/06_ai.htm']"
      ]
     },
     "execution_count": 6,
     "metadata": {},
     "output_type": "execute_result"
    }
   ],
   "source": [
    "clhs = parse_clhs(url)\n",
    "filtered = [tag for tag in get_content(clhs) if tag.a]\n",
    "filtered\n",
    "links = list(map((lambda x: base_url + x.a['href']), filtered))\n",
    "links\n",
    "# # first_html = requests.get(links[0]).text\n",
    "# first_html = parseClhs(links[0])\n",
    "# first_html = getContent(first_html)\n",
    "# first_html\n",
    "# links\n",
    "# for tag in getContent(clhs):\n",
    "#     print(tag)\n",
    "#     print(\"\\n\\n\")\n",
    "# bool(getContent(clhs)[2].a)"
   ]
  },
  {
   "cell_type": "code",
   "execution_count": 58,
   "metadata": {},
   "outputs": [
    {
     "name": "stdout",
     "output_type": "stream",
     "text": [
      "printing the soup.\n",
      "Inside replace_headline_with_content for: http://www.lispworks.com/documentation/HyperSpec/Body/06_a.htm\n",
      "working on: 06_aa.htm\n"
     ]
    },
    {
     "ename": "TypeError",
     "evalue": "'NoneType' object is not callable",
     "output_type": "error",
     "traceback": [
      "\u001b[1;31m---------------------------------------------------------------------------\u001b[0m",
      "\u001b[1;31mTypeError\u001b[0m                                 Traceback (most recent call last)",
      "\u001b[1;32m<ipython-input-58-495a3b465b27>\u001b[0m in \u001b[0;36m<module>\u001b[1;34m\u001b[0m\n\u001b[0;32m     30\u001b[0m \u001b[1;33m\u001b[0m\u001b[0m\n\u001b[0;32m     31\u001b[0m \u001b[0mprint\u001b[0m\u001b[1;33m(\u001b[0m\u001b[1;34m\"printing the soup.\"\u001b[0m\u001b[1;33m)\u001b[0m\u001b[1;33m\u001b[0m\u001b[1;33m\u001b[0m\u001b[0m\n\u001b[1;32m---> 32\u001b[1;33m \u001b[0msoup\u001b[0m \u001b[1;33m=\u001b[0m \u001b[0mreplace_headline_with_content\u001b[0m\u001b[1;33m(\u001b[0m\u001b[1;34m\"http://www.lispworks.com/documentation/HyperSpec/Body/06_a.htm\"\u001b[0m\u001b[1;33m)\u001b[0m\u001b[1;33m\u001b[0m\u001b[1;33m\u001b[0m\u001b[0m\n\u001b[0m\u001b[0;32m     33\u001b[0m \u001b[1;32mwith\u001b[0m \u001b[0mopen\u001b[0m\u001b[1;33m(\u001b[0m\u001b[1;34m\"clhs.html\"\u001b[0m\u001b[1;33m,\u001b[0m \u001b[1;34m\"w\"\u001b[0m\u001b[1;33m)\u001b[0m \u001b[1;32mas\u001b[0m \u001b[0mf\u001b[0m\u001b[1;33m:\u001b[0m\u001b[1;33m\u001b[0m\u001b[1;33m\u001b[0m\u001b[0m\n\u001b[0;32m     34\u001b[0m     \u001b[0mprint\u001b[0m\u001b[1;33m(\u001b[0m\u001b[1;34m\"started writing.\"\u001b[0m\u001b[1;33m)\u001b[0m\u001b[1;33m\u001b[0m\u001b[1;33m\u001b[0m\u001b[0m\n",
      "\u001b[1;32m<ipython-input-58-495a3b465b27>\u001b[0m in \u001b[0;36mreplace_headline_with_content\u001b[1;34m(url)\u001b[0m\n\u001b[0;32m     24\u001b[0m         \u001b[0mprint\u001b[0m\u001b[1;33m(\u001b[0m\u001b[1;34m\"working on: \"\u001b[0m \u001b[1;33m+\u001b[0m \u001b[0mh2\u001b[0m\u001b[1;33m.\u001b[0m\u001b[0ma\u001b[0m\u001b[1;33m[\u001b[0m\u001b[1;34m'href'\u001b[0m\u001b[1;33m]\u001b[0m\u001b[1;33m)\u001b[0m\u001b[1;33m\u001b[0m\u001b[1;33m\u001b[0m\u001b[0m\n\u001b[0;32m     25\u001b[0m \u001b[1;31m#         h2.insert_after(replace_content_recursive(base_url + h2.a['href']))\u001b[0m\u001b[1;33m\u001b[0m\u001b[1;33m\u001b[0m\u001b[1;33m\u001b[0m\u001b[0m\n\u001b[1;32m---> 26\u001b[1;33m         \u001b[0mcontent_tag_list\u001b[0m \u001b[1;33m=\u001b[0m \u001b[0mreplace_content_recursive\u001b[0m\u001b[1;33m(\u001b[0m\u001b[0mbase_url\u001b[0m \u001b[1;33m+\u001b[0m \u001b[0mh2\u001b[0m\u001b[1;33m.\u001b[0m\u001b[0ma\u001b[0m\u001b[1;33m[\u001b[0m\u001b[1;34m'href'\u001b[0m\u001b[1;33m]\u001b[0m\u001b[1;33m)\u001b[0m\u001b[1;33m.\u001b[0m\u001b[0mreverse\u001b[0m\u001b[1;33m(\u001b[0m\u001b[1;33m)\u001b[0m\u001b[1;33m\u001b[0m\u001b[1;33m\u001b[0m\u001b[0m\n\u001b[0m\u001b[0;32m     27\u001b[0m         \u001b[1;32mfor\u001b[0m \u001b[0mtag\u001b[0m \u001b[1;32min\u001b[0m \u001b[0mcontent_tag_list\u001b[0m\u001b[1;33m:\u001b[0m\u001b[1;33m\u001b[0m\u001b[1;33m\u001b[0m\u001b[0m\n\u001b[0;32m     28\u001b[0m             \u001b[0mh2\u001b[0m\u001b[1;33m.\u001b[0m\u001b[0minsert_after\u001b[0m\u001b[1;33m(\u001b[0m\u001b[0mtag\u001b[0m\u001b[1;33m)\u001b[0m\u001b[1;33m\u001b[0m\u001b[1;33m\u001b[0m\u001b[0m\n",
      "\u001b[1;31mTypeError\u001b[0m: 'NoneType' object is not callable"
     ]
    }
   ],
   "source": [
    "def replace_content_recursive(url):\n",
    "    clhs = parse_clhs(url)\n",
    "    content = remove_non_content(clhs)\n",
    "    h2s = [tag for tag in content if tag.name == 'h2' and tag.a]\n",
    "    base_url = get_base_url(url)\n",
    "    for h2 in h2s:\n",
    "        print(\"working on: \" + h2.a['href'])\n",
    "        content_tag_list = replace_content_recursive(base_url + h2.a['href']).reverse()\n",
    "        for tag in content_tag_list:\n",
    "            h2.insert_after(tag)\n",
    "    return content\n",
    "\n",
    "def replace_headline_with_content(url):\n",
    "    print(\"Inside replace_headline_with_content for: \" + url)\n",
    "    clhs = parse_clhs(url)\n",
    "    content = get_content(clhs)\n",
    "    h2s = [tag for tag in content if tag.name == 'h2' and tag.a]\n",
    "    base_url = get_base_url(url)\n",
    "#     return list(map(replace_headline_with_content, [get_base_url(url) + tag.a['href'] for tag in h2s]))\n",
    "#     return [get_base_url(url) + tag.a['href'] for tag in h2s]\n",
    "#     return list(map(replace_content_recursive, h2s))\n",
    "#     return list(map(lambda x: (x, replace_headline_with_content(x)) ,[get_base_url(url) + tag.a['href'] for tag in h2s]))\n",
    "    for h2 in h2s:\n",
    "        print(\"working on: \" + h2.a['href'])\n",
    "# #         h2.insert_after(replace_content_recursive(base_url + h2.a['href']))\n",
    "#         content_tag_list = replace_content_recursive(base_url + h2.a['href']).reverse()\n",
    "#         for tag in content_tag_list:\n",
    "#             h2.insert_after(tag)\n",
    "        \n",
    "    return clhs\n",
    "\n",
    "print(\"printing the soup.\")\n",
    "soup = replace_headline_with_content(\"http://www.lispworks.com/documentation/HyperSpec/Body/06_a.htm\")\n",
    "with open(\"clhs.html\", \"w\") as f:\n",
    "    print(\"started writing.\")\n",
    "    f.write(str(soup))\n",
    "\n",
    "print(\"Finish!\")"
   ]
  },
  {
   "cell_type": "code",
   "execution_count": 60,
   "metadata": {},
   "outputs": [
    {
     "name": "stdout",
     "output_type": "stream",
     "text": [
      "Inside replace_headline_with_content for: http://www.lispworks.com/documentation/HyperSpec/Body/06_aaa.htm\n",
      "working on: 06_aaaa.htm\n"
     ]
    },
    {
     "ename": "TypeError",
     "evalue": "'NoneType' object is not callable",
     "output_type": "error",
     "traceback": [
      "\u001b[1;31m---------------------------------------------------------------------------\u001b[0m",
      "\u001b[1;31mTypeError\u001b[0m                                 Traceback (most recent call last)",
      "\u001b[1;32m<ipython-input-60-d96f9164a2c1>\u001b[0m in \u001b[0;36m<module>\u001b[1;34m\u001b[0m\n\u001b[0;32m      3\u001b[0m \u001b[0mh2s\u001b[0m \u001b[1;33m=\u001b[0m \u001b[1;33m[\u001b[0m\u001b[0mtag\u001b[0m \u001b[1;32mfor\u001b[0m \u001b[0mtag\u001b[0m \u001b[1;32min\u001b[0m \u001b[0mcontent\u001b[0m \u001b[1;32mif\u001b[0m \u001b[0mtag\u001b[0m\u001b[1;33m.\u001b[0m\u001b[0mname\u001b[0m \u001b[1;33m==\u001b[0m \u001b[1;34m'h2'\u001b[0m \u001b[1;32mand\u001b[0m \u001b[0mtag\u001b[0m\u001b[1;33m.\u001b[0m\u001b[0ma\u001b[0m\u001b[1;33m]\u001b[0m\u001b[1;33m\u001b[0m\u001b[1;33m\u001b[0m\u001b[0m\n\u001b[0;32m      4\u001b[0m \u001b[1;33m[\u001b[0m\u001b[0mget_base_url\u001b[0m\u001b[1;33m(\u001b[0m\u001b[0murl\u001b[0m\u001b[1;33m)\u001b[0m \u001b[1;33m+\u001b[0m \u001b[0mtag\u001b[0m\u001b[1;33m.\u001b[0m\u001b[0ma\u001b[0m\u001b[1;33m[\u001b[0m\u001b[1;34m'href'\u001b[0m\u001b[1;33m]\u001b[0m \u001b[1;32mfor\u001b[0m \u001b[0mtag\u001b[0m \u001b[1;32min\u001b[0m \u001b[0mh2s\u001b[0m\u001b[1;33m]\u001b[0m\u001b[1;33m\u001b[0m\u001b[1;33m\u001b[0m\u001b[0m\n\u001b[1;32m----> 5\u001b[1;33m \u001b[0mreplace_headline_with_content\u001b[0m\u001b[1;33m(\u001b[0m\u001b[1;34m\"http://www.lispworks.com/documentation/HyperSpec/Body/06_aaa.htm\"\u001b[0m\u001b[1;33m)\u001b[0m\u001b[1;33m\u001b[0m\u001b[1;33m\u001b[0m\u001b[0m\n\u001b[0m",
      "\u001b[1;32m<ipython-input-58-495a3b465b27>\u001b[0m in \u001b[0;36mreplace_headline_with_content\u001b[1;34m(url)\u001b[0m\n\u001b[0;32m     24\u001b[0m         \u001b[0mprint\u001b[0m\u001b[1;33m(\u001b[0m\u001b[1;34m\"working on: \"\u001b[0m \u001b[1;33m+\u001b[0m \u001b[0mh2\u001b[0m\u001b[1;33m.\u001b[0m\u001b[0ma\u001b[0m\u001b[1;33m[\u001b[0m\u001b[1;34m'href'\u001b[0m\u001b[1;33m]\u001b[0m\u001b[1;33m)\u001b[0m\u001b[1;33m\u001b[0m\u001b[1;33m\u001b[0m\u001b[0m\n\u001b[0;32m     25\u001b[0m \u001b[1;31m#         h2.insert_after(replace_content_recursive(base_url + h2.a['href']))\u001b[0m\u001b[1;33m\u001b[0m\u001b[1;33m\u001b[0m\u001b[1;33m\u001b[0m\u001b[0m\n\u001b[1;32m---> 26\u001b[1;33m         \u001b[0mcontent_tag_list\u001b[0m \u001b[1;33m=\u001b[0m \u001b[0mreplace_content_recursive\u001b[0m\u001b[1;33m(\u001b[0m\u001b[0mbase_url\u001b[0m \u001b[1;33m+\u001b[0m \u001b[0mh2\u001b[0m\u001b[1;33m.\u001b[0m\u001b[0ma\u001b[0m\u001b[1;33m[\u001b[0m\u001b[1;34m'href'\u001b[0m\u001b[1;33m]\u001b[0m\u001b[1;33m)\u001b[0m\u001b[1;33m.\u001b[0m\u001b[0mreverse\u001b[0m\u001b[1;33m(\u001b[0m\u001b[1;33m)\u001b[0m\u001b[1;33m\u001b[0m\u001b[1;33m\u001b[0m\u001b[0m\n\u001b[0m\u001b[0;32m     27\u001b[0m         \u001b[1;32mfor\u001b[0m \u001b[0mtag\u001b[0m \u001b[1;32min\u001b[0m \u001b[0mcontent_tag_list\u001b[0m\u001b[1;33m:\u001b[0m\u001b[1;33m\u001b[0m\u001b[1;33m\u001b[0m\u001b[0m\n\u001b[0;32m     28\u001b[0m             \u001b[0mh2\u001b[0m\u001b[1;33m.\u001b[0m\u001b[0minsert_after\u001b[0m\u001b[1;33m(\u001b[0m\u001b[0mtag\u001b[0m\u001b[1;33m)\u001b[0m\u001b[1;33m\u001b[0m\u001b[1;33m\u001b[0m\u001b[0m\n",
      "\u001b[1;31mTypeError\u001b[0m: 'NoneType' object is not callable"
     ]
    }
   ],
   "source": [
    "clhs = parse_clhs(\"http://www.lispworks.com/documentation/HyperSpec/Body/06_aaa.htm\")\n",
    "content = get_content(clhs)\n",
    "h2s = [tag for tag in content if tag.name == 'h2' and tag.a]\n",
    "[get_base_url(url) + tag.a['href'] for tag in h2s]\n",
    "replace_headline_with_content(\"http://www.lispworks.com/documentation/HyperSpec/Body/06_aaa.htm\")"
   ]
  },
  {
   "cell_type": "code",
   "execution_count": 155,
   "metadata": {},
   "outputs": [
    {
     "data": {
      "text/plain": [
       "[<h2>\n",
       " <a href=\"06_aca.htm\" rel=\"CHILD\">6.1.3.1 Examples of COLLECT\n",
       "       clause</a>\n",
       " </h2>, <h2>\n",
       " <a href=\"06_acb.htm\" rel=\"CHILD\">6.1.3.2 Examples of APPEND\n",
       "       and NCONC clauses</a>\n",
       " </h2>, <h2>\n",
       " <a href=\"06_acc.htm\" rel=\"CHILD\">6.1.3.3 Examples of COUNT\n",
       "       clause</a>\n",
       " </h2>, <h2>\n",
       " <a href=\"06_acd.htm\" rel=\"CHILD\">6.1.3.4 Examples of MAXIMIZE\n",
       "       and MINIMIZE clauses</a>\n",
       " </h2>, <h2>\n",
       " <a href=\"06_ace.htm\" rel=\"CHILD\">6.1.3.5 Examples of SUM\n",
       "       clause</a>\n",
       " </h2>]"
      ]
     },
     "execution_count": 155,
     "metadata": {},
     "output_type": "execute_result"
    }
   ],
   "source": [
    "clhs = parse_clhs(url)\n",
    "content = get_content(clhs)\n",
    "h2s = [tag for tag in content if tag.name == 'h2' and tag.a]\n",
    "\n",
    "def replace_tags_with_content(tags, base_url):\n",
    "    for tag in tags:\n",
    "        link =  extract_link(tag, base_url)\n",
    "        print(link)\n",
    "        content = get_content(parse_clhs(link))\n",
    "        yield content\n",
    "#         print(content)\n",
    "#         break\n",
    "        \n",
    "# list(map(replace_content_recursive, h2s))\n",
    "# list(replace_tags_with_content(h2s, base_url))\n",
    "\n",
    "data = ''\n",
    "with open('new.html', 'r') as file:\n",
    "    data = file.read().replace('\\n', '')\n",
    "\n",
    "\n",
    "# parse_clhs(\"http://www.lispworks.com/documentation/HyperSpec/Body/06_ac.htm\")\n",
    "# requests.get(\"http://www.lispworks.com/documentation/HyperSpec/Body/06_ac.htm\").text\n",
    "html_doc = requests.get(\"http://www.lispworks.com/documentation/HyperSpec/Body/06_ac.htm\").text\n",
    "# html_doc = requests.get(\"http://www.lispworks.com/documentation/HyperSpec/Body/06_ab.htm\").text\n",
    "# html_doc = html_doc.replace(\"<P>\", \"<p></p>\") \n",
    "# tidy_doc = html_doc\n",
    "# Can't be used because some documents have regular, clsoed <p> tags\n",
    "#     html_doc = html_doc.replace(\"<P>\", \"<p></p>\") \n",
    "# This is for closing unclosed <p> tags, that mess up beautiful soup\n",
    "# tidy_doc = tidy_document(html_doc, options={'drop_empty_paras': False, 'force_output': True})[0]\n",
    "# if not tidy_doc:\n",
    "#     tidy_doc = html_doc\n",
    "# soup = BeautifulSoup(tidy_doc, 'html.parser')\n",
    "# soup = BeautifulSoup(tidy_doc, 'html.parser')\n",
    "# get_content(soup)\n",
    "# soup\n",
    "# tidy_doc\n",
    "\n",
    "# tidylib.BASE_OPTIONS = {\n",
    "#     \"indent\": 1,           # Pretty; not too much of a performance hit\n",
    "#     \"tidy-mark\": 0,        # No tidy meta tag in output\n",
    "# #     \"wrap\": 0,             # No wrapping\n",
    "#     \"alt-text\": \"\",        # Help ensure validation\n",
    "#     \"doctype\": 'strict',   # Little sense in transitional for tool-generated markup...\n",
    "#     \"force-output\": 1,     # May not get what you expect but you will get something\n",
    "#     'drop_empty_paras': False\n",
    "#     }\n",
    "# tidy_doc = tidy_document(html_doc, options={'drop_empty_paras': False, 'force_output': True})\n",
    "# tidy_doc\n",
    "\n",
    "\n",
    "# tidy_document(html_doc, options={'drop_empty_paras': False, 'force_output': True})\n",
    "# html_doc\n",
    "# get_content(BeautifulSoup(tidy_doc[0], 'html.parser'))\n",
    "\n",
    "filtered = [tag for tag in get_content(BeautifulSoup(tidy_doc[0], 'html.parser')) if tag.name == 'h2' and tag.a]\n",
    "filtered"
   ]
  },
  {
   "cell_type": "code",
   "execution_count": 58,
   "metadata": {},
   "outputs": [
    {
     "data": {
      "text/plain": [
       "'http://www.lispworks.com/documentation/HyperSpec/Body/'"
      ]
     },
     "execution_count": 58,
     "metadata": {},
     "output_type": "execute_result"
    }
   ],
   "source": [
    "html_doc = requests.get(url).text\n",
    "tidy_doc = tidy_document(html_doc, options={'drop_empty_paras': False})\n",
    "soup = BeautifulSoup(tidy_doc[0], 'html.parser')\n",
    "# getContent(parseClhs(url))\n",
    "# tidy_doc[0]\n",
    "get_base_url(url)"
   ]
  },
  {
   "cell_type": "code",
   "execution_count": 110,
   "metadata": {},
   "outputs": [
    {
     "data": {
      "text/plain": [
       "[<h2>\n",
       " <a href=\"06_aa.htm\" rel=\"CHILD\">6.1.1 Overview of the Loop\n",
       "       Facility</a>\n",
       " </h2>, <a href=\"06_aa.htm\" rel=\"CHILD\">6.1.1 Overview of the Loop\n",
       "       Facility</a>, <p></p>, <h2>\n",
       " <a href=\"06_ab.htm\" rel=\"CHILD\">6.1.2 Variable Initialization\n",
       "       and Stepping Clauses</a>\n",
       " </h2>, <a href=\"06_ab.htm\" rel=\"CHILD\">6.1.2 Variable Initialization\n",
       "       and Stepping Clauses</a>, <p></p>, <h2>\n",
       " <a href=\"06_ac.htm\" rel=\"CHILD\">6.1.3 Value Accumulation\n",
       "       Clauses</a>\n",
       " </h2>, <a href=\"06_ac.htm\" rel=\"CHILD\">6.1.3 Value Accumulation\n",
       "       Clauses</a>, <p></p>, <h2>\n",
       " <a href=\"06_ad.htm\" rel=\"CHILD\">6.1.4 Termination Test\n",
       "       Clauses</a>\n",
       " </h2>, <a href=\"06_ad.htm\" rel=\"CHILD\">6.1.4 Termination Test\n",
       "       Clauses</a>, <p></p>, <h2>\n",
       " <a href=\"06_ae.htm\" rel=\"CHILD\">6.1.5 Unconditional Execution\n",
       "       Clauses</a>\n",
       " </h2>, <a href=\"06_ae.htm\" rel=\"CHILD\">6.1.5 Unconditional Execution\n",
       "       Clauses</a>, <p></p>, <h2>\n",
       " <a href=\"06_af.htm\" rel=\"CHILD\">6.1.6 Conditional Execution\n",
       "       Clauses</a>\n",
       " </h2>, <a href=\"06_af.htm\" rel=\"CHILD\">6.1.6 Conditional Execution\n",
       "       Clauses</a>, <p></p>, <h2>\n",
       " <a href=\"06_ag.htm\" rel=\"CHILD\">6.1.7 Miscellaneous\n",
       "       Clauses</a>\n",
       " </h2>, <a href=\"06_ag.htm\" rel=\"CHILD\">6.1.7 Miscellaneous\n",
       "       Clauses</a>, <p></p>, <h2>\n",
       " <a href=\"06_ah.htm\" rel=\"CHILD\">6.1.8 Examples of\n",
       "       Miscellaneous Loop Features</a>\n",
       " </h2>, <a href=\"06_ah.htm\" rel=\"CHILD\">6.1.8 Examples of\n",
       "       Miscellaneous Loop Features</a>, <p></p>, <h2>\n",
       " <a href=\"06_ai.htm\" rel=\"CHILD\">6.1.9 Notes about Loop</a>\n",
       " </h2>, <a href=\"06_ai.htm\" rel=\"CHILD\">6.1.9 Notes about Loop</a>, <p></p>]"
      ]
     },
     "execution_count": 110,
     "metadata": {},
     "output_type": "execute_result"
    }
   ],
   "source": [
    "clhs = parse_clhs(\"http://www.lispworks.com/documentation/HyperSpec/Body/06_a.htm\")\n",
    "tidy_doc = tidy_document(clhs)\n",
    "body = clhs.body\n",
    "\n",
    "for tag in body.hr.find_previous_siblings():\n",
    "    tag.decompose()\n",
    "body.hr.decompose()\n",
    "for tag in body.hr.find_next_siblings():\n",
    "    tag.decompose()\n",
    "body.hr.decompose()\n",
    "body.find_all()[2:]\n"
   ]
  }
 ],
 "metadata": {
  "kernelspec": {
   "display_name": "Python 3",
   "language": "python",
   "name": "python3"
  },
  "language_info": {
   "codemirror_mode": {
    "name": "ipython",
    "version": 3
   },
   "file_extension": ".py",
   "mimetype": "text/x-python",
   "name": "python",
   "nbconvert_exporter": "python",
   "pygments_lexer": "ipython3",
   "version": "3.7.4"
  }
 },
 "nbformat": 4,
 "nbformat_minor": 4
}
